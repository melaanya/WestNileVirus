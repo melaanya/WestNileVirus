{
 "cells": [
  {
   "cell_type": "code",
   "execution_count": 421,
   "metadata": {
    "collapsed": false,
    "scrolled": false
   },
   "outputs": [],
   "source": [
    "import pandas as pd\n",
    "import numpy as np\n",
    "import xgboost as xgb\n",
    "from sklearn import *\n",
    "\n",
    "# =================================\n",
    "#             Functions\n",
    "# =================================\n",
    "\n",
    "def splitDate(arr):\n",
    "    dateColumn = arr['Date'].str.split('-')\n",
    "    arr['Year'] = pd.to_numeric(dateColumn.str[-3]);\n",
    "    arr['Month'] = pd.to_numeric(dateColumn.str[-2]);\n",
    "    arr['Week'] = pd.to_numeric(dateColumn.str[-1]) // 4;\n",
    "    return arr\n",
    "\n",
    "def speciesToNums(arr):\n",
    "    arr.Species = arr.Species.map({'CULEX ERRATICUS':0, 'CULEX PIPIENS':1, 'CULEX PIPIENS/RESTUANS':2, 'CULEX RESTUANS':3, 'CULEX SALINARIUS':4, 'CULEX TARSALIS':5, 'CULEX TERRITANS':6, 'UNSPECIFIED CULEX':7})\n",
    "    return arr\n",
    "\n",
    "def join_features_weather(train, weather):\n",
    "    joined = train.set_index('Date').join(weather.set_index('Date'), rsuffix = 'r')\n",
    "    joined = joined[resArr]\n",
    "    joined.index.name = None\n",
    "    joined.index = range(0, len(joined))\n",
    "    # специфичная обработка некоторых столбцов\n",
    "    joined['Tavg'] = pd.to_numeric(joined['Tavg'])\n",
    "    return joined\n",
    "\n",
    "def our_cross_validation(train, trainAnswer):\n",
    "#     разделяем выборку на две равные части - to do: попробовать cross_validation pandas\n",
    "    dataTrain = train.ix[0:5000, ]\n",
    "    dataTest = train.ix[5001:len(trainWeather), ]\n",
    "    \n",
    "    resTrain = trainAnswer.ix[0:5000, ]\n",
    "    resTest = trainAnswer.ix[5001:len(train), ]\n",
    "    \n",
    "    # тренируем, смотрим качество на тренировочной\n",
    "    XGBoost = xgb.XGBClassifier(max_depth = 2, n_estimators = 143)\n",
    "    XGBoost.fit(dataTrain, resTrain)\n",
    "    XGBoost.predict_proba(dataTrain)\n",
    "    aucXGBTrain = metrics.roc_auc_score(resTrain, XGBoost.predict_proba(dataTrain)[:,1])\n",
    "    print(aucXGBTrain)\n",
    "    \n",
    "    # смотрим качество на проверочной выборке\n",
    "    aucXGBTest = metrics.roc_auc_score(resTest, XGBoost.predict_proba(dataTest)[:,1])\n",
    "    print(aucXGBTest)\n",
    "    \n",
    "def get_answer_csv(train, trainAnswer, test, filePath):\n",
    "    # тренировка и результат на тренировочной\n",
    "    XGBoost = xgb.XGBClassifier(max_depth = 5, n_estimators = 200)\n",
    "    XGBoost.fit(train, trainAnswer)\n",
    "    aucXGBTrain = metrics.roc_auc_score(trainAnswer, XGBoost.predict_proba(train)[:,1])\n",
    "    print(aucXGBTrain)\n",
    "\n",
    "    # ответы для проверочной выборки и запись в файл\n",
    "    temp = pd.Series(XGBoost.predict_proba(test)[:,1])\n",
    "    temp.index = range(1, len(temp) + 1)\n",
    "    temp.to_csv(filePath, header = True)\n",
    "    \n",
    "\n",
    "# =================================\n",
    "#             First settings\n",
    "# =================================\n",
    "namesArray = ['Date', 'Species', 'Latitude', 'Longitude', 'Month', 'Week']\n",
    "\n",
    "train = pd.read_csv('train.csv')\n",
    "test = pd.read_csv('test.csv')\n",
    "\n",
    "# Count norms\n",
    "norm_1 = train[train['WnvPresent'] == 0]['WnvPresent'].count()\n",
    "norm_2 = train[train['WnvPresent'] == 1]['WnvPresent'].count()\n",
    "\n",
    "# Remove result column from train\n",
    "trainAnswer = train['WnvPresent'];\n",
    "train = train.drop('WnvPresent', axis = 1)\n",
    "\n",
    "# Split date to year, month and week\n",
    "train = splitDate(train)\n",
    "test = splitDate(test)\n",
    "\n",
    "# Convert species names to numbers\n",
    "train = speciesToNums(train)\n",
    "test = speciesToNums(test)\n",
    "\n",
    "# ======== One-hot encoding example ========\n",
    "# specie = pd.get_dummies(train.Species, prefix='Specie')\n",
    "# train = train.join(specie)\n",
    "\n",
    "# specieTest = pd.get_dummies(test.Species, prefix='Specie')\n",
    "# test = test.join(specieTest)\n",
    "\n",
    "# Get only columns from namesArray\n",
    "train = train[namesArray]\n",
    "test = test[namesArray]\n"
   ]
  },
  {
   "cell_type": "code",
   "execution_count": 422,
   "metadata": {
    "collapsed": false
   },
   "outputs": [],
   "source": [
    "# =================================\n",
    "#             Weather\n",
    "# =================================\n",
    "weather = pd.read_csv('weather.csv')\n",
    "# пока уберем станцию 1\n",
    "weather.drop(weather[weather.Station == 1].index, inplace = True)\n",
    "weatherNamesArray = ['Tavg', 'Tmin']\n",
    "\n",
    "# Create main array from names arrays and remove date\n",
    "resArr = namesArray + weatherNamesArray\n",
    "resArr.remove('Date')\n",
    "\n",
    "# Join train and test with weather\n",
    "trainWeather = join_features_weather(train, weather);\n",
    "testWeather = join_features_weather(test, weather);\n"
   ]
  },
  {
   "cell_type": "code",
   "execution_count": 423,
   "metadata": {
    "collapsed": true
   },
   "outputs": [],
   "source": [
    "# dataTrain = train.ix[0:5000, ]\n",
    "# dataTest = train.ix[5001:10505, ]\n",
    "\n",
    "# answerTrain = trainAnswer.ix[0:5000, ]\n",
    "# answerTest = trainAnswer.ix[5001:10505, ]"
   ]
  },
  {
   "cell_type": "code",
   "execution_count": 424,
   "metadata": {
    "collapsed": false
   },
   "outputs": [],
   "source": [
    "# XGBoost.fit(dataTrain, answerTrain)\n",
    "# XGBoost.predict_proba(dataTrain)\n",
    "# aucXGBTrain = metrics.roc_auc_score(answerTrain, XGBoost.predict_proba(dataTrain)[:,1])\n",
    "\n",
    "# print(aucXGBTrain)\n",
    "\n",
    "# aucXGBTest = metrics.roc_auc_score(answerTest, XGBoost.predict_proba(dataTest)[:,1])\n",
    "\n",
    "# print (XGBoost.predict_proba(dataTest)[:,1])\n",
    "\n",
    "# print(aucXGBTest)"
   ]
  },
  {
   "cell_type": "code",
   "execution_count": 425,
   "metadata": {
    "collapsed": false
   },
   "outputs": [
    {
     "name": "stdout",
     "output_type": "stream",
     "text": [
      "0.880674650713\n",
      "0.76499696018\n",
      "0.939492507573\n"
     ]
    }
   ],
   "source": [
    "# Crossvalidation\n",
    "our_cross_validation(trainWeather, trainAnswer)\n",
    "\n",
    "# Get answer(print accuracy on train) and create csv\n",
    "get_answer_csv(trainWeather, trainAnswer, testWeather, \"submission-2.csv\")"
   ]
  }
 ],
 "metadata": {
  "anaconda-cloud": {},
  "kernelspec": {
   "display_name": "Python [Root]",
   "language": "python",
   "name": "Python [Root]"
  },
  "language_info": {
   "codemirror_mode": {
    "name": "ipython",
    "version": 3
   },
   "file_extension": ".py",
   "mimetype": "text/x-python",
   "name": "python",
   "nbconvert_exporter": "python",
   "pygments_lexer": "ipython3",
   "version": "3.5.2"
  }
 },
 "nbformat": 4,
 "nbformat_minor": 0
}
